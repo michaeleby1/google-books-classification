{
 "cells": [
  {
   "cell_type": "code",
   "execution_count": 19,
   "metadata": {},
   "outputs": [],
   "source": [
    "import pandas as pd\n",
    "import numpy as np\n",
    "import matplotlib.pyplot as plt\n",
    "%matplotlib inline\n",
    "import seaborn as sns\n",
    "import statsmodels.api as sm\n",
    "from sklearn.linear_model import LogisticRegression\n",
    "from sklearn.model_selection import train_test_split, GridSearchCV\n",
    "from sklearn.metrics import accuracy_score, f1_score, confusion_matrix, classification_report\n",
    "from sklearn.ensemble import RandomForestClassifier, AdaBoostClassifier, GradientBoostingClassifier\n",
    "from sklearn.naive_bayes import GaussianNB, BernoulliNB\n",
    "from sklearn.svm import SVC  \n",
    "import random\n",
    "from xgboost import XGBClassifier\n",
    "import warnings\n",
    "warnings.filterwarnings('ignore')"
   ]
  },
  {
   "cell_type": "code",
   "execution_count": 20,
   "metadata": {},
   "outputs": [
    {
     "name": "stdout",
     "output_type": "stream",
     "text": [
      "(1116, 14)\n"
     ]
    }
   ],
   "source": [
    "df = pd.read_csv('google_books.csv')\n",
    "tfidf_one_hot_words = pd.read_csv('tfidf_one_hot_words.csv')\n",
    "print(df.shape)"
   ]
  },
  {
   "cell_type": "code",
   "execution_count": 21,
   "metadata": {},
   "outputs": [
    {
     "name": "stdout",
     "output_type": "stream",
     "text": [
      "(1111, 14)\n"
     ]
    },
    {
     "data": {
      "text/html": [
       "<div>\n",
       "<style scoped>\n",
       "    .dataframe tbody tr th:only-of-type {\n",
       "        vertical-align: middle;\n",
       "    }\n",
       "\n",
       "    .dataframe tbody tr th {\n",
       "        vertical-align: top;\n",
       "    }\n",
       "\n",
       "    .dataframe thead th {\n",
       "        text-align: right;\n",
       "    }\n",
       "</style>\n",
       "<table border=\"1\" class=\"dataframe\">\n",
       "  <thead>\n",
       "    <tr style=\"text-align: right;\">\n",
       "      <th></th>\n",
       "      <th>title</th>\n",
       "      <th>subtitle</th>\n",
       "      <th>authors</th>\n",
       "      <th>publisher</th>\n",
       "      <th>month</th>\n",
       "      <th>year</th>\n",
       "      <th>categories</th>\n",
       "      <th>pageCount</th>\n",
       "      <th>listPrice</th>\n",
       "      <th>images</th>\n",
       "      <th>isEbook</th>\n",
       "      <th>ratingsCount</th>\n",
       "      <th>averageRating</th>\n",
       "      <th>description</th>\n",
       "    </tr>\n",
       "  </thead>\n",
       "  <tbody>\n",
       "    <tr>\n",
       "      <td>0</td>\n",
       "      <td>The Litigators</td>\n",
       "      <td>NaN</td>\n",
       "      <td>John Grisham</td>\n",
       "      <td>Dell</td>\n",
       "      <td>10</td>\n",
       "      <td>2011</td>\n",
       "      <td>Fiction</td>\n",
       "      <td>496</td>\n",
       "      <td>9.99</td>\n",
       "      <td>False</td>\n",
       "      <td>True</td>\n",
       "      <td>137</td>\n",
       "      <td>3.5</td>\n",
       "      <td>The partners at Finley &amp; Figg often refer to t...</td>\n",
       "    </tr>\n",
       "    <tr>\n",
       "      <td>1</td>\n",
       "      <td>Ragtime</td>\n",
       "      <td>A Novel</td>\n",
       "      <td>E.L. Doctorow</td>\n",
       "      <td>Random House</td>\n",
       "      <td>11</td>\n",
       "      <td>2010</td>\n",
       "      <td>Fiction</td>\n",
       "      <td>336</td>\n",
       "      <td>14.99</td>\n",
       "      <td>True</td>\n",
       "      <td>True</td>\n",
       "      <td>57</td>\n",
       "      <td>3.5</td>\n",
       "      <td>Selected by the Modern Library as one of the 1...</td>\n",
       "    </tr>\n",
       "    <tr>\n",
       "      <td>2</td>\n",
       "      <td>Her Perfect Man</td>\n",
       "      <td>NaN</td>\n",
       "      <td>Mary Lynn Baxter</td>\n",
       "      <td>Silhouette</td>\n",
       "      <td>5</td>\n",
       "      <td>2011</td>\n",
       "      <td>Fiction</td>\n",
       "      <td>192</td>\n",
       "      <td>3.99</td>\n",
       "      <td>False</td>\n",
       "      <td>True</td>\n",
       "      <td>1</td>\n",
       "      <td>5.0</td>\n",
       "      <td>One look at firebrand Katherine Mays and Bryce...</td>\n",
       "    </tr>\n",
       "    <tr>\n",
       "      <td>3</td>\n",
       "      <td>The Vanished Man</td>\n",
       "      <td>A Lincoln Rhyme Novel</td>\n",
       "      <td>Jeffery Deaver</td>\n",
       "      <td>Simon and Schuster</td>\n",
       "      <td>8</td>\n",
       "      <td>2012</td>\n",
       "      <td>Fiction</td>\n",
       "      <td>577</td>\n",
       "      <td>NaN</td>\n",
       "      <td>False</td>\n",
       "      <td>False</td>\n",
       "      <td>19</td>\n",
       "      <td>4.0</td>\n",
       "      <td>Hunting down a killer and master illusionist w...</td>\n",
       "    </tr>\n",
       "    <tr>\n",
       "      <td>4</td>\n",
       "      <td>One Sunday</td>\n",
       "      <td>A Novel</td>\n",
       "      <td>Carrie Gerlach Cecil</td>\n",
       "      <td>Simon and Schuster</td>\n",
       "      <td>2</td>\n",
       "      <td>2013</td>\n",
       "      <td>Fiction</td>\n",
       "      <td>255</td>\n",
       "      <td>NaN</td>\n",
       "      <td>False</td>\n",
       "      <td>False</td>\n",
       "      <td>6</td>\n",
       "      <td>4.0</td>\n",
       "      <td>When her unborn child's health is put at risk,...</td>\n",
       "    </tr>\n",
       "  </tbody>\n",
       "</table>\n",
       "</div>"
      ],
      "text/plain": [
       "              title               subtitle               authors  \\\n",
       "0    The Litigators                    NaN          John Grisham   \n",
       "1           Ragtime                A Novel         E.L. Doctorow   \n",
       "2   Her Perfect Man                    NaN      Mary Lynn Baxter   \n",
       "3  The Vanished Man  A Lincoln Rhyme Novel        Jeffery Deaver   \n",
       "4        One Sunday                A Novel  Carrie Gerlach Cecil   \n",
       "\n",
       "            publisher  month  year categories  pageCount  listPrice  images  \\\n",
       "0                Dell     10  2011    Fiction        496       9.99   False   \n",
       "1        Random House     11  2010    Fiction        336      14.99    True   \n",
       "2          Silhouette      5  2011    Fiction        192       3.99   False   \n",
       "3  Simon and Schuster      8  2012    Fiction        577        NaN   False   \n",
       "4  Simon and Schuster      2  2013    Fiction        255        NaN   False   \n",
       "\n",
       "   isEbook  ratingsCount  averageRating  \\\n",
       "0     True           137            3.5   \n",
       "1     True            57            3.5   \n",
       "2     True             1            5.0   \n",
       "3    False            19            4.0   \n",
       "4    False             6            4.0   \n",
       "\n",
       "                                         description  \n",
       "0  The partners at Finley & Figg often refer to t...  \n",
       "1  Selected by the Modern Library as one of the 1...  \n",
       "2  One look at firebrand Katherine Mays and Bryce...  \n",
       "3  Hunting down a killer and master illusionist w...  \n",
       "4  When her unborn child's health is put at risk,...  "
      ]
     },
     "execution_count": 21,
     "metadata": {},
     "output_type": "execute_result"
    }
   ],
   "source": [
    "df.dropna(subset=['description'], inplace=True)\n",
    "df.reset_index(inplace=True, drop=True)\n",
    "print(df.shape)\n",
    "df.head()"
   ]
  },
  {
   "cell_type": "markdown",
   "metadata": {},
   "source": [
    "## Feature Engineering"
   ]
  },
  {
   "cell_type": "code",
   "execution_count": 22,
   "metadata": {},
   "outputs": [],
   "source": [
    "## target feature indicating if book gets a 4.5 rating or above\n",
    "def above4p5(x):\n",
    "    if x >= 4.5:\n",
    "        return 1\n",
    "    else:\n",
    "        return 0\n",
    "\n",
    "df['above4p5'] = df['averageRating'].map(lambda x: above4p5(x))"
   ]
  },
  {
   "cell_type": "code",
   "execution_count": 23,
   "metadata": {},
   "outputs": [
    {
     "name": "stdout",
     "output_type": "stream",
     "text": [
      "21\n"
     ]
    }
   ],
   "source": [
    "## make feature that indicates if popular or unpopular author \n",
    "## i.e. does the author appear more than once \n",
    "author_count = df.authors.value_counts()\n",
    "popular_authors = list(author_count[author_count >= 3].index)\n",
    "\n",
    "def popular_author(x):\n",
    "    if x in popular_authors:\n",
    "        return 1\n",
    "    else:\n",
    "        return 0\n",
    "\n",
    "df['popular_author'] = df['authors'].map(lambda x: popular_author(x))\n",
    "print(df['popular_author'].sum())"
   ]
  },
  {
   "cell_type": "code",
   "execution_count": 24,
   "metadata": {},
   "outputs": [
    {
     "data": {
      "text/html": [
       "<div>\n",
       "<style scoped>\n",
       "    .dataframe tbody tr th:only-of-type {\n",
       "        vertical-align: middle;\n",
       "    }\n",
       "\n",
       "    .dataframe tbody tr th {\n",
       "        vertical-align: top;\n",
       "    }\n",
       "\n",
       "    .dataframe thead th {\n",
       "        text-align: right;\n",
       "    }\n",
       "</style>\n",
       "<table border=\"1\" class=\"dataframe\">\n",
       "  <thead>\n",
       "    <tr style=\"text-align: right;\">\n",
       "      <th></th>\n",
       "      <th>A&amp;C Black</th>\n",
       "      <th>A&amp;amp;C Black</th>\n",
       "      <th>Abrams</th>\n",
       "      <th>Academic Press</th>\n",
       "      <th>Acculant Publishing</th>\n",
       "      <th>Ace</th>\n",
       "      <th>Addison-Wesley</th>\n",
       "      <th>Addison-Wesley Professional</th>\n",
       "      <th>Adelphi Edizioni spa</th>\n",
       "      <th>African Books Collective</th>\n",
       "      <th>...</th>\n",
       "      <th>year</th>\n",
       "      <th>guide</th>\n",
       "      <th>readers</th>\n",
       "      <th>recipes</th>\n",
       "      <th>man</th>\n",
       "      <th>novel</th>\n",
       "      <th>students</th>\n",
       "      <th>just</th>\n",
       "      <th>real</th>\n",
       "      <th>design</th>\n",
       "    </tr>\n",
       "  </thead>\n",
       "  <tbody>\n",
       "    <tr>\n",
       "      <td>0</td>\n",
       "      <td>0</td>\n",
       "      <td>0</td>\n",
       "      <td>0</td>\n",
       "      <td>0</td>\n",
       "      <td>0</td>\n",
       "      <td>0</td>\n",
       "      <td>0</td>\n",
       "      <td>0</td>\n",
       "      <td>0</td>\n",
       "      <td>0</td>\n",
       "      <td>...</td>\n",
       "      <td>0</td>\n",
       "      <td>0</td>\n",
       "      <td>0</td>\n",
       "      <td>0</td>\n",
       "      <td>0</td>\n",
       "      <td>1</td>\n",
       "      <td>0</td>\n",
       "      <td>0</td>\n",
       "      <td>0</td>\n",
       "      <td>0</td>\n",
       "    </tr>\n",
       "    <tr>\n",
       "      <td>1</td>\n",
       "      <td>0</td>\n",
       "      <td>0</td>\n",
       "      <td>0</td>\n",
       "      <td>0</td>\n",
       "      <td>0</td>\n",
       "      <td>0</td>\n",
       "      <td>0</td>\n",
       "      <td>0</td>\n",
       "      <td>0</td>\n",
       "      <td>0</td>\n",
       "      <td>...</td>\n",
       "      <td>0</td>\n",
       "      <td>0</td>\n",
       "      <td>0</td>\n",
       "      <td>0</td>\n",
       "      <td>0</td>\n",
       "      <td>1</td>\n",
       "      <td>0</td>\n",
       "      <td>0</td>\n",
       "      <td>1</td>\n",
       "      <td>0</td>\n",
       "    </tr>\n",
       "    <tr>\n",
       "      <td>2</td>\n",
       "      <td>0</td>\n",
       "      <td>0</td>\n",
       "      <td>0</td>\n",
       "      <td>0</td>\n",
       "      <td>0</td>\n",
       "      <td>0</td>\n",
       "      <td>0</td>\n",
       "      <td>0</td>\n",
       "      <td>0</td>\n",
       "      <td>0</td>\n",
       "      <td>...</td>\n",
       "      <td>0</td>\n",
       "      <td>0</td>\n",
       "      <td>0</td>\n",
       "      <td>0</td>\n",
       "      <td>0</td>\n",
       "      <td>0</td>\n",
       "      <td>0</td>\n",
       "      <td>0</td>\n",
       "      <td>0</td>\n",
       "      <td>0</td>\n",
       "    </tr>\n",
       "    <tr>\n",
       "      <td>3</td>\n",
       "      <td>0</td>\n",
       "      <td>0</td>\n",
       "      <td>0</td>\n",
       "      <td>0</td>\n",
       "      <td>0</td>\n",
       "      <td>0</td>\n",
       "      <td>0</td>\n",
       "      <td>0</td>\n",
       "      <td>0</td>\n",
       "      <td>0</td>\n",
       "      <td>...</td>\n",
       "      <td>0</td>\n",
       "      <td>0</td>\n",
       "      <td>0</td>\n",
       "      <td>0</td>\n",
       "      <td>0</td>\n",
       "      <td>0</td>\n",
       "      <td>0</td>\n",
       "      <td>0</td>\n",
       "      <td>0</td>\n",
       "      <td>0</td>\n",
       "    </tr>\n",
       "    <tr>\n",
       "      <td>4</td>\n",
       "      <td>0</td>\n",
       "      <td>0</td>\n",
       "      <td>0</td>\n",
       "      <td>0</td>\n",
       "      <td>0</td>\n",
       "      <td>0</td>\n",
       "      <td>0</td>\n",
       "      <td>0</td>\n",
       "      <td>0</td>\n",
       "      <td>0</td>\n",
       "      <td>...</td>\n",
       "      <td>0</td>\n",
       "      <td>0</td>\n",
       "      <td>0</td>\n",
       "      <td>0</td>\n",
       "      <td>0</td>\n",
       "      <td>0</td>\n",
       "      <td>0</td>\n",
       "      <td>0</td>\n",
       "      <td>0</td>\n",
       "      <td>0</td>\n",
       "    </tr>\n",
       "  </tbody>\n",
       "</table>\n",
       "<p>5 rows × 465 columns</p>\n",
       "</div>"
      ],
      "text/plain": [
       "   A&C Black  A&amp;C Black  Abrams  Academic Press  Acculant Publishing  Ace  \\\n",
       "0          0              0       0               0                    0    0   \n",
       "1          0              0       0               0                    0    0   \n",
       "2          0              0       0               0                    0    0   \n",
       "3          0              0       0               0                    0    0   \n",
       "4          0              0       0               0                    0    0   \n",
       "\n",
       "   Addison-Wesley  Addison-Wesley Professional  Adelphi Edizioni spa  \\\n",
       "0               0                            0                     0   \n",
       "1               0                            0                     0   \n",
       "2               0                            0                     0   \n",
       "3               0                            0                     0   \n",
       "4               0                            0                     0   \n",
       "\n",
       "   African Books Collective  ...  year  guide  readers  recipes  man  novel  \\\n",
       "0                         0  ...     0      0        0        0    0      1   \n",
       "1                         0  ...     0      0        0        0    0      1   \n",
       "2                         0  ...     0      0        0        0    0      0   \n",
       "3                         0  ...     0      0        0        0    0      0   \n",
       "4                         0  ...     0      0        0        0    0      0   \n",
       "\n",
       "   students  just  real  design  \n",
       "0         0     0     0       0  \n",
       "1         0     0     1       0  \n",
       "2         0     0     0       0  \n",
       "3         0     0     0       0  \n",
       "4         0     0     0       0  \n",
       "\n",
       "[5 rows x 465 columns]"
      ]
     },
     "execution_count": 24,
     "metadata": {},
     "output_type": "execute_result"
    }
   ],
   "source": [
    "words = tfidf_one_hot_words.iloc[:,0:49]\n",
    "\n",
    "df = pd.concat([ pd.get_dummies(df['publisher']), pd.get_dummies(df['month']), \n",
    "                     pd.get_dummies(df['year']), pd.get_dummies(df['categories']), \n",
    "                df['images'], df['isEbook'], df['popular_author'], df['above4p5']], axis=1)\n",
    "df = pd.concat([df, words], join=\"inner\", axis=1)\n",
    "df.head()"
   ]
  },
  {
   "cell_type": "markdown",
   "metadata": {},
   "source": [
    "##### Solving imbalances in the train test split due to uneven distribution of words"
   ]
  },
  {
   "cell_type": "code",
   "execution_count": 25,
   "metadata": {
    "scrolled": true
   },
   "outputs": [],
   "source": [
    "## this cell makes a train-test-split based on dataframe index\n",
    "## it is taking random samples of words (column) and splitting it into a mini\n",
    "## train-test dataframe then merging to a running tally of random samples\n",
    "## once the running tally reaches approximately 75% of the main dataframe,\n",
    "## the loop halts\n",
    "freq_words = words.apply(np.sum, axis=0)\n",
    "\n",
    "## initialze empty dataframes\n",
    "train = pd.DataFrame(columns = df.columns)\n",
    "test = pd.DataFrame(columns = df.columns)\n",
    "\n",
    "## while loop until train dataframe reaches 75% of main df n_rows\n",
    "while train.shape[0] <= round(len(df.index) * 0.75):\n",
    "    ## sample a word and split in to train/test based on the word\n",
    "    samp = freq_words[freq_words<100].sample(1).index[0]\n",
    "    col = tfidf_one_hot_words[[samp]]\n",
    "\n",
    "    ## gets all the rows where that word occurs\n",
    "    col = col[col[samp]==1]\n",
    "\n",
    "    ## estimate of how many rows we want in micro train dataset\n",
    "    n_train = round(len(col.index) * 0.75)\n",
    "\n",
    "    ## get a sample of the indices that go in to the micro train dataset\n",
    "    inds = random.sample(range(0,len(col.index)), k=n_train)\n",
    "    train_inds = [list(col.index)[ind] for ind in inds]\n",
    "\n",
    "    ## takes difference between train indices and micro dataframe indices to get test in  dices\n",
    "    test_inds = list(set(list(col.index))- set(train_inds))\n",
    "\n",
    "    ## join the micro indices with the macro indices, which we will continue to add to\n",
    "    train = pd.concat([train, df.iloc[train_inds]])\n",
    "    test = pd.concat([test, df.iloc[test_inds]])"
   ]
  },
  {
   "cell_type": "code",
   "execution_count": 26,
   "metadata": {
    "scrolled": true
   },
   "outputs": [
    {
     "name": "stdout",
     "output_type": "stream",
     "text": [
      "(866, 465)\n"
     ]
    },
    {
     "data": {
      "text/html": [
       "<div>\n",
       "<style scoped>\n",
       "    .dataframe tbody tr th:only-of-type {\n",
       "        vertical-align: middle;\n",
       "    }\n",
       "\n",
       "    .dataframe tbody tr th {\n",
       "        vertical-align: top;\n",
       "    }\n",
       "\n",
       "    .dataframe thead th {\n",
       "        text-align: right;\n",
       "    }\n",
       "</style>\n",
       "<table border=\"1\" class=\"dataframe\">\n",
       "  <thead>\n",
       "    <tr style=\"text-align: right;\">\n",
       "      <th></th>\n",
       "      <th>A&amp;C Black</th>\n",
       "      <th>A&amp;amp;C Black</th>\n",
       "      <th>Abrams</th>\n",
       "      <th>Academic Press</th>\n",
       "      <th>Acculant Publishing</th>\n",
       "      <th>Ace</th>\n",
       "      <th>Addison-Wesley</th>\n",
       "      <th>Addison-Wesley Professional</th>\n",
       "      <th>Adelphi Edizioni spa</th>\n",
       "      <th>African Books Collective</th>\n",
       "      <th>...</th>\n",
       "      <th>year</th>\n",
       "      <th>guide</th>\n",
       "      <th>readers</th>\n",
       "      <th>recipes</th>\n",
       "      <th>man</th>\n",
       "      <th>novel</th>\n",
       "      <th>students</th>\n",
       "      <th>just</th>\n",
       "      <th>real</th>\n",
       "      <th>design</th>\n",
       "    </tr>\n",
       "  </thead>\n",
       "  <tbody>\n",
       "    <tr>\n",
       "      <td>882</td>\n",
       "      <td>0</td>\n",
       "      <td>0</td>\n",
       "      <td>0</td>\n",
       "      <td>0</td>\n",
       "      <td>0</td>\n",
       "      <td>0</td>\n",
       "      <td>0</td>\n",
       "      <td>0</td>\n",
       "      <td>0</td>\n",
       "      <td>0</td>\n",
       "      <td>...</td>\n",
       "      <td>0</td>\n",
       "      <td>0</td>\n",
       "      <td>0</td>\n",
       "      <td>0</td>\n",
       "      <td>0</td>\n",
       "      <td>0</td>\n",
       "      <td>0</td>\n",
       "      <td>0</td>\n",
       "      <td>0</td>\n",
       "      <td>0</td>\n",
       "    </tr>\n",
       "    <tr>\n",
       "      <td>864</td>\n",
       "      <td>0</td>\n",
       "      <td>0</td>\n",
       "      <td>0</td>\n",
       "      <td>0</td>\n",
       "      <td>0</td>\n",
       "      <td>0</td>\n",
       "      <td>0</td>\n",
       "      <td>0</td>\n",
       "      <td>0</td>\n",
       "      <td>0</td>\n",
       "      <td>...</td>\n",
       "      <td>0</td>\n",
       "      <td>0</td>\n",
       "      <td>0</td>\n",
       "      <td>0</td>\n",
       "      <td>0</td>\n",
       "      <td>0</td>\n",
       "      <td>0</td>\n",
       "      <td>0</td>\n",
       "      <td>0</td>\n",
       "      <td>0</td>\n",
       "    </tr>\n",
       "    <tr>\n",
       "      <td>854</td>\n",
       "      <td>0</td>\n",
       "      <td>0</td>\n",
       "      <td>0</td>\n",
       "      <td>0</td>\n",
       "      <td>0</td>\n",
       "      <td>0</td>\n",
       "      <td>0</td>\n",
       "      <td>0</td>\n",
       "      <td>0</td>\n",
       "      <td>0</td>\n",
       "      <td>...</td>\n",
       "      <td>0</td>\n",
       "      <td>0</td>\n",
       "      <td>0</td>\n",
       "      <td>0</td>\n",
       "      <td>0</td>\n",
       "      <td>0</td>\n",
       "      <td>0</td>\n",
       "      <td>0</td>\n",
       "      <td>0</td>\n",
       "      <td>0</td>\n",
       "    </tr>\n",
       "    <tr>\n",
       "      <td>892</td>\n",
       "      <td>0</td>\n",
       "      <td>0</td>\n",
       "      <td>0</td>\n",
       "      <td>0</td>\n",
       "      <td>0</td>\n",
       "      <td>0</td>\n",
       "      <td>0</td>\n",
       "      <td>0</td>\n",
       "      <td>0</td>\n",
       "      <td>0</td>\n",
       "      <td>...</td>\n",
       "      <td>0</td>\n",
       "      <td>0</td>\n",
       "      <td>1</td>\n",
       "      <td>0</td>\n",
       "      <td>0</td>\n",
       "      <td>0</td>\n",
       "      <td>0</td>\n",
       "      <td>0</td>\n",
       "      <td>0</td>\n",
       "      <td>0</td>\n",
       "    </tr>\n",
       "    <tr>\n",
       "      <td>898</td>\n",
       "      <td>0</td>\n",
       "      <td>0</td>\n",
       "      <td>0</td>\n",
       "      <td>0</td>\n",
       "      <td>0</td>\n",
       "      <td>0</td>\n",
       "      <td>0</td>\n",
       "      <td>0</td>\n",
       "      <td>0</td>\n",
       "      <td>0</td>\n",
       "      <td>...</td>\n",
       "      <td>0</td>\n",
       "      <td>0</td>\n",
       "      <td>0</td>\n",
       "      <td>0</td>\n",
       "      <td>0</td>\n",
       "      <td>0</td>\n",
       "      <td>0</td>\n",
       "      <td>0</td>\n",
       "      <td>0</td>\n",
       "      <td>0</td>\n",
       "    </tr>\n",
       "  </tbody>\n",
       "</table>\n",
       "<p>5 rows × 465 columns</p>\n",
       "</div>"
      ],
      "text/plain": [
       "    A&C Black A&amp;C Black Abrams Academic Press Acculant Publishing Ace  \\\n",
       "882         0             0      0              0                   0   0   \n",
       "864         0             0      0              0                   0   0   \n",
       "854         0             0      0              0                   0   0   \n",
       "892         0             0      0              0                   0   0   \n",
       "898         0             0      0              0                   0   0   \n",
       "\n",
       "    Addison-Wesley Addison-Wesley Professional Adelphi Edizioni spa  \\\n",
       "882              0                           0                    0   \n",
       "864              0                           0                    0   \n",
       "854              0                           0                    0   \n",
       "892              0                           0                    0   \n",
       "898              0                           0                    0   \n",
       "\n",
       "    African Books Collective  ... year guide readers recipes man novel  \\\n",
       "882                        0  ...    0     0       0       0   0     0   \n",
       "864                        0  ...    0     0       0       0   0     0   \n",
       "854                        0  ...    0     0       0       0   0     0   \n",
       "892                        0  ...    0     0       1       0   0     0   \n",
       "898                        0  ...    0     0       0       0   0     0   \n",
       "\n",
       "    students just real design  \n",
       "882        0    0    0      0  \n",
       "864        0    0    0      0  \n",
       "854        0    0    0      0  \n",
       "892        0    0    0      0  \n",
       "898        0    0    0      0  \n",
       "\n",
       "[5 rows x 465 columns]"
      ]
     },
     "execution_count": 26,
     "metadata": {},
     "output_type": "execute_result"
    }
   ],
   "source": [
    "print(train.shape)\n",
    "train.head()\n"
   ]
  },
  {
   "cell_type": "code",
   "execution_count": 27,
   "metadata": {},
   "outputs": [],
   "source": [
    "## manually making the train-test-split\n",
    "X_train = df\n",
    "y_train = train[['above4p5']]\n",
    "\n",
    "X_test = test.drop(['above4p5'], axis=1)\n",
    "y_test = test[['above4p5']]\n",
    "                     \n",
    "# x_sub = X_train.drop([''])\n"
   ]
  },
  {
   "cell_type": "code",
   "execution_count": 28,
   "metadata": {},
   "outputs": [],
   "source": [
    "y_train=y_train.astype('int')\n",
    "y_test = y_test.astype('int')\n",
    "# X_train = X_train.astype()"
   ]
  },
  {
   "cell_type": "markdown",
   "metadata": {},
   "source": [
    "## Baseline"
   ]
  },
  {
   "cell_type": "code",
   "execution_count": 29,
   "metadata": {},
   "outputs": [
    {
     "data": {
      "image/png": "[encoded data removed]",
      "text/plain": [
       "<Figure size 720x576 with 1 Axes>"
      ]
     },
     "metadata": {},
     "output_type": "display_data"
    }
   ],
   "source": [
    "sns.set(style='dark', context='talk')\n",
    "palette = sns.color_palette(\"PuBuGn_r\")\n",
    "\n",
    "f, ax = plt.subplots(figsize=(10,8))\n",
    "f.suptitle('Book Ratings', ha='center', fontsize=32)\n",
    "ax = sns.countplot(df['above4p5'], data=df, palette=palette)\n",
    "ax.set_xlabel('')\n",
    "ax.set_xticklabels(['Below 4.5', '4.5 or Above'], fontsize=16)\n",
    "ax.set_ylabel('Number of Books', rotation=270, fontsize=12)\n",
    "ax.yaxis.set_label_position('right')\n",
    "ax.yaxis.set_label_coords(1.095, 0.5)\n",
    "ax.yaxis.tick_right()\n",
    "f.tight_layout(rect=[0, 0.03, 1, 0.95])\n"
   ]
  },
  {
   "cell_type": "markdown",
   "metadata": {},
   "source": [
    "## Logistic Regression"
   ]
  },
  {
   "cell_type": "code",
   "execution_count": 57,
   "metadata": {},
   "outputs": [
    {
     "ename": "KeyError",
     "evalue": "'publisher'",
     "output_type": "error",
     "traceback": [
      "\u001b[0;31m---------------------------------------------------------------------------\u001b[0m",
      "\u001b[0;31mKeyError\u001b[0m                                  Traceback (most recent call last)",
      "\u001b[0;32m~/opt/anaconda3/lib/python3.7/site-packages/pandas/core/indexes/base.py\u001b[0m in \u001b[0;36mget_loc\u001b[0;34m(self, key, method, tolerance)\u001b[0m\n\u001b[1;32m   2896\u001b[0m             \u001b[0;32mtry\u001b[0m\u001b[0;34m:\u001b[0m\u001b[0;34m\u001b[0m\u001b[0;34m\u001b[0m\u001b[0m\n\u001b[0;32m-> 2897\u001b[0;31m                 \u001b[0;32mreturn\u001b[0m \u001b[0mself\u001b[0m\u001b[0;34m.\u001b[0m\u001b[0m_engine\u001b[0m\u001b[0;34m.\u001b[0m\u001b[0mget_loc\u001b[0m\u001b[0;34m(\u001b[0m\u001b[0mkey\u001b[0m\u001b[0;34m)\u001b[0m\u001b[0;34m\u001b[0m\u001b[0;34m\u001b[0m\u001b[0m\n\u001b[0m\u001b[1;32m   2898\u001b[0m             \u001b[0;32mexcept\u001b[0m \u001b[0mKeyError\u001b[0m\u001b[0;34m:\u001b[0m\u001b[0;34m\u001b[0m\u001b[0;34m\u001b[0m\u001b[0m\n",
      "\u001b[0;32mpandas/_libs/index.pyx\u001b[0m in \u001b[0;36mpandas._libs.index.IndexEngine.get_loc\u001b[0;34m()\u001b[0m\n",
      "\u001b[0;32mpandas/_libs/index.pyx\u001b[0m in \u001b[0;36mpandas._libs.index.IndexEngine.get_loc\u001b[0;34m()\u001b[0m\n",
      "\u001b[0;32mpandas/_libs/hashtable_class_helper.pxi\u001b[0m in \u001b[0;36mpandas._libs.hashtable.PyObjectHashTable.get_item\u001b[0;34m()\u001b[0m\n",
      "\u001b[0;32mpandas/_libs/hashtable_class_helper.pxi\u001b[0m in \u001b[0;36mpandas._libs.hashtable.PyObjectHashTable.get_item\u001b[0;34m()\u001b[0m\n",
      "\u001b[0;31mKeyError\u001b[0m: 'publisher'",
      "\nDuring handling of the above exception, another exception occurred:\n",
      "\u001b[0;31mKeyError\u001b[0m                                  Traceback (most recent call last)",
      "\u001b[0;32m<ipython-input-57-31b381978e92>\u001b[0m in \u001b[0;36m<module>\u001b[0;34m\u001b[0m\n\u001b[1;32m      1\u001b[0m \u001b[0;31m## logistic regression without word vectors\u001b[0m\u001b[0;34m\u001b[0m\u001b[0;34m\u001b[0m\u001b[0;34m\u001b[0m\u001b[0m\n\u001b[1;32m      2\u001b[0m \u001b[0;34m\u001b[0m\u001b[0m\n\u001b[0;32m----> 3\u001b[0;31m X_train_sub = pd.concat([pd.get_dummies(df['publisher']), pd.get_dummies(df['month']), \n\u001b[0m\u001b[1;32m      4\u001b[0m                    \u001b[0mpd\u001b[0m\u001b[0;34m.\u001b[0m\u001b[0mget_dummies\u001b[0m\u001b[0;34m(\u001b[0m\u001b[0mdf\u001b[0m\u001b[0;34m[\u001b[0m\u001b[0;34m'year'\u001b[0m\u001b[0;34m]\u001b[0m\u001b[0;34m)\u001b[0m\u001b[0;34m,\u001b[0m \u001b[0mpd\u001b[0m\u001b[0;34m.\u001b[0m\u001b[0mget_dummies\u001b[0m\u001b[0;34m(\u001b[0m\u001b[0mdf\u001b[0m\u001b[0;34m[\u001b[0m\u001b[0;34m'categories'\u001b[0m\u001b[0;34m]\u001b[0m\u001b[0;34m)\u001b[0m\u001b[0;34m,\u001b[0m\u001b[0;34m\u001b[0m\u001b[0;34m\u001b[0m\u001b[0m\n\u001b[1;32m      5\u001b[0m                    df['images'], df['isEbook'], df['popular_author']], axis=1)\n",
      "\u001b[0;32m~/opt/anaconda3/lib/python3.7/site-packages/pandas/core/frame.py\u001b[0m in \u001b[0;36m__getitem__\u001b[0;34m(self, key)\u001b[0m\n\u001b[1;32m   2978\u001b[0m             \u001b[0;32mif\u001b[0m \u001b[0mself\u001b[0m\u001b[0;34m.\u001b[0m\u001b[0mcolumns\u001b[0m\u001b[0;34m.\u001b[0m\u001b[0mnlevels\u001b[0m \u001b[0;34m>\u001b[0m \u001b[0;36m1\u001b[0m\u001b[0;34m:\u001b[0m\u001b[0;34m\u001b[0m\u001b[0;34m\u001b[0m\u001b[0m\n\u001b[1;32m   2979\u001b[0m                 \u001b[0;32mreturn\u001b[0m \u001b[0mself\u001b[0m\u001b[0;34m.\u001b[0m\u001b[0m_getitem_multilevel\u001b[0m\u001b[0;34m(\u001b[0m\u001b[0mkey\u001b[0m\u001b[0;34m)\u001b[0m\u001b[0;34m\u001b[0m\u001b[0;34m\u001b[0m\u001b[0m\n\u001b[0;32m-> 2980\u001b[0;31m             \u001b[0mindexer\u001b[0m \u001b[0;34m=\u001b[0m \u001b[0mself\u001b[0m\u001b[0;34m.\u001b[0m\u001b[0mcolumns\u001b[0m\u001b[0;34m.\u001b[0m\u001b[0mget_loc\u001b[0m\u001b[0;34m(\u001b[0m\u001b[0mkey\u001b[0m\u001b[0;34m)\u001b[0m\u001b[0;34m\u001b[0m\u001b[0;34m\u001b[0m\u001b[0m\n\u001b[0m\u001b[1;32m   2981\u001b[0m             \u001b[0;32mif\u001b[0m \u001b[0mis_integer\u001b[0m\u001b[0;34m(\u001b[0m\u001b[0mindexer\u001b[0m\u001b[0;34m)\u001b[0m\u001b[0;34m:\u001b[0m\u001b[0;34m\u001b[0m\u001b[0;34m\u001b[0m\u001b[0m\n\u001b[1;32m   2982\u001b[0m                 \u001b[0mindexer\u001b[0m \u001b[0;34m=\u001b[0m \u001b[0;34m[\u001b[0m\u001b[0mindexer\u001b[0m\u001b[0;34m]\u001b[0m\u001b[0;34m\u001b[0m\u001b[0;34m\u001b[0m\u001b[0m\n",
      "\u001b[0;32m~/opt/anaconda3/lib/python3.7/site-packages/pandas/core/indexes/base.py\u001b[0m in \u001b[0;36mget_loc\u001b[0;34m(self, key, method, tolerance)\u001b[0m\n\u001b[1;32m   2897\u001b[0m                 \u001b[0;32mreturn\u001b[0m \u001b[0mself\u001b[0m\u001b[0;34m.\u001b[0m\u001b[0m_engine\u001b[0m\u001b[0;34m.\u001b[0m\u001b[0mget_loc\u001b[0m\u001b[0;34m(\u001b[0m\u001b[0mkey\u001b[0m\u001b[0;34m)\u001b[0m\u001b[0;34m\u001b[0m\u001b[0;34m\u001b[0m\u001b[0m\n\u001b[1;32m   2898\u001b[0m             \u001b[0;32mexcept\u001b[0m \u001b[0mKeyError\u001b[0m\u001b[0;34m:\u001b[0m\u001b[0;34m\u001b[0m\u001b[0;34m\u001b[0m\u001b[0m\n\u001b[0;32m-> 2899\u001b[0;31m                 \u001b[0;32mreturn\u001b[0m \u001b[0mself\u001b[0m\u001b[0;34m.\u001b[0m\u001b[0m_engine\u001b[0m\u001b[0;34m.\u001b[0m\u001b[0mget_loc\u001b[0m\u001b[0;34m(\u001b[0m\u001b[0mself\u001b[0m\u001b[0;34m.\u001b[0m\u001b[0m_maybe_cast_indexer\u001b[0m\u001b[0;34m(\u001b[0m\u001b[0mkey\u001b[0m\u001b[0;34m)\u001b[0m\u001b[0;34m)\u001b[0m\u001b[0;34m\u001b[0m\u001b[0;34m\u001b[0m\u001b[0m\n\u001b[0m\u001b[1;32m   2900\u001b[0m         \u001b[0mindexer\u001b[0m \u001b[0;34m=\u001b[0m \u001b[0mself\u001b[0m\u001b[0;34m.\u001b[0m\u001b[0mget_indexer\u001b[0m\u001b[0;34m(\u001b[0m\u001b[0;34m[\u001b[0m\u001b[0mkey\u001b[0m\u001b[0;34m]\u001b[0m\u001b[0;34m,\u001b[0m \u001b[0mmethod\u001b[0m\u001b[0;34m=\u001b[0m\u001b[0mmethod\u001b[0m\u001b[0;34m,\u001b[0m \u001b[0mtolerance\u001b[0m\u001b[0;34m=\u001b[0m\u001b[0mtolerance\u001b[0m\u001b[0;34m)\u001b[0m\u001b[0;34m\u001b[0m\u001b[0;34m\u001b[0m\u001b[0m\n\u001b[1;32m   2901\u001b[0m         \u001b[0;32mif\u001b[0m \u001b[0mindexer\u001b[0m\u001b[0;34m.\u001b[0m\u001b[0mndim\u001b[0m \u001b[0;34m>\u001b[0m \u001b[0;36m1\u001b[0m \u001b[0;32mor\u001b[0m \u001b[0mindexer\u001b[0m\u001b[0;34m.\u001b[0m\u001b[0msize\u001b[0m \u001b[0;34m>\u001b[0m \u001b[0;36m1\u001b[0m\u001b[0;34m:\u001b[0m\u001b[0;34m\u001b[0m\u001b[0;34m\u001b[0m\u001b[0m\n",
      "\u001b[0;32mpandas/_libs/index.pyx\u001b[0m in \u001b[0;36mpandas._libs.index.IndexEngine.get_loc\u001b[0;34m()\u001b[0m\n",
      "\u001b[0;32mpandas/_libs/index.pyx\u001b[0m in \u001b[0;36mpandas._libs.index.IndexEngine.get_loc\u001b[0;34m()\u001b[0m\n",
      "\u001b[0;32mpandas/_libs/hashtable_class_helper.pxi\u001b[0m in \u001b[0;36mpandas._libs.hashtable.PyObjectHashTable.get_item\u001b[0;34m()\u001b[0m\n",
      "\u001b[0;32mpandas/_libs/hashtable_class_helper.pxi\u001b[0m in \u001b[0;36mpandas._libs.hashtable.PyObjectHashTable.get_item\u001b[0;34m()\u001b[0m\n",
      "\u001b[0;31mKeyError\u001b[0m: 'publisher'"
     ]
    }
   ],
   "source": [
    "## logistic regression without word vectors\n",
    "\n",
    "X_train_sub = pd.concat([pd.get_dummies(df['publisher']), pd.get_dummies(df['month']), \n",
    "                   pd.get_dummies(df['year']), pd.get_dummies(df['categories']), \n",
    "                   df['images'], df['isEbook'], df['popular_author']], axis=1)\n",
    "y = df['above4p5']\n",
    "\n",
    "\n"
   ]
  },
  {
   "cell_type": "code",
   "execution_count": 31,
   "metadata": {},
   "outputs": [
    {
     "name": "stdout",
     "output_type": "stream",
     "text": [
      "Predicted values: \n",
      " [1 1 1 1 1 1 0 0 0 1 1 1 0 1 1 0 1 1 1 1 1 1 1 1 0 1 1 1 1 0 1 1 1 1 1 1 1\n",
      " 1 1 1 0 1 1 0 1 1 1 0 1 0 0 0 0 0 0 0 0 0 0 1 0 0 0 0 0 0 0 0 0 0 0 0 0 0\n",
      " 0 0 0 0 1 1 0 0 0 0 0 0 0 0 0 0 0 0 0 0 0 0 0 0 0 0 0 0 0 0 0 0 0 0 0 0 0\n",
      " 0 0 0 0 0 1 0 0 1 1 0 0 0 0 0 0 1 0 1 1 0 0 0 0 1 1 1 1 1 1 0 1 1 1 0 1 1\n",
      " 1 1 0 0 0 1 1 0 0 0 0 0 0 1 0 0 0 1 1 1 1 0 1 1 0 1 0 0 1 1 1 1 0 1 0 0 1\n",
      " 1 0 1 0 1 1 0 0 1 1 1 1 1 1 1 1 0 1 1 0 0 1 1 0 0 1 1 1 1 1 0 1 1 0 1 1 0\n",
      " 1 1 1 0 1 1 0 1 1 1 0 1 0 1 1 1 1 1 0 1 0 1 0 0 1 1 0 1 1 0 1 1 1 1 1 1 1\n",
      " 0 0 1 0 1 1 1 0 1 1 1 0 0 1 1 0 1 1 1 1 1 1 1 1 0 1 1 1 1 1 0 1 0 0 1 0 0\n",
      " 1 0 1 1 0 1 1 0 1 1 0 1 0 0 1 1 0 0 1 1 1 0 1 1 1 1 0 1 1 0 0 1 1 1 1 1 1\n",
      " 1 0 1 0 0 1 0 1 0 0 0 0 0 0 0 0 1 0 1 1 1 1 1 0 1 1 1 0 1 1 0 1 0 1 1 1 1\n",
      " 1 0 0 1 1 1 0 1 1 1 1 1 1 1 0 1 1 1 0 0 0 0 1 1 1 1 1 0 0 1 1 1 1 1 1 1 1\n",
      " 0 0 1 1 1 1 0 0 1 1 0 1 1 1 0 0 1 1 0 1 0 1 1 0 1 1 0 1 1 0 0 1 0 1 0 0 0\n",
      " 1 1 1 0 0 0 1 1 0 0 1 1 0 0 0 0 0 0 1 0 0 0 1 0 1 0 0 1 0 1 0 0 1 1 1 1 1\n",
      " 1 1 0 0 0 1 0 1 1 1 1 1 0 0 1 1 0 1 1 1 1 0 1 1 1 1 0 1 1 0 0 1 0 0 1 1 0\n",
      " 0 0 0 1 1 0 1 1 0 1 1 1 0 1 1 0 1 1 1 0 0 0 0 1 1 1 0 1 1 1 0 0 0 1 1 1 1\n",
      " 1 0 1 0 1 0 0 1 1 1 0 0 0 1 1 0 0 0 1 1 0 0 1 0 1 1 0 1 0 1 0 0 1 1 0 0 1\n",
      " 1 0 1 1 0 1 1 0 0 0 1 0 1 0 1 1 1 1 0 0 1 1 0 1 0 0 0 0 1 0 1 1 1 0 0 0 1\n",
      " 0 0 0 1 0 0 0 0 1 1 1 0 1 0 0 1 0 1 0 1 1 1 0 1 1 0 1 1 0 1 0 1 0 1 0 0 0\n",
      " 0 0 0 0 0 1 0 0 1 0 0 0 1 0 1 0 1 0 0 0 0 1 0 0 1 0 0 0 0 1 0 0 1 1 0 0 1\n",
      " 0 0 1 0 0 0 0 0 1 0 0 0 1 0 0 0 0 1 1 0 0 0 1 1 0 0 0 0 0 0 0 0 0 1 1 0 1\n",
      " 0 1 1 1 0 1 1 0 0 1 1 1 1 0 0 1 0 1 0 1 0 0 0 1 0 1 1 1 0 1 0 1 0 0 1 1 1\n",
      " 1 0 1 1 1 1 0 1 0 1 1 0 1 1 1 1 1 0 1 0 0 1 1 1 0 1 1 1 0 1 0 1 1 1 1 1 1\n",
      " 0 0 1 1 1 0 1 0 1 1 0 0 0 0 0 0 1 1 1 0 0 1 0 1 0 1 1 1 0 0 0 0 1 0 1 0 0\n",
      " 1 1 1 0 0 0 1 1 0 1 0 0 0 1 0] \n",
      "\n",
      "Probability predctions: \n",
      " [[0.1403008  0.8596992 ]\n",
      " [0.35497053 0.64502947]\n",
      " [0.49006235 0.50993765]\n",
      " ...\n",
      " [0.7299867  0.2700133 ]\n",
      " [0.39381425 0.60618575]\n",
      " [0.62000291 0.37999709]] \n",
      "\n",
      "Train score: \n",
      " 0.8383371824480369 \n",
      "\n",
      "Test score: \n",
      " 0.7560137457044673\n"
     ]
    }
   ],
   "source": [
    "## logistic regression with word vectors\n",
    "\n",
    "clf = LogisticRegression(random_state=0).fit(X_train, y_train)\n",
    "print(f'Predicted values: \\n {clf.predict(X_train)} \\n')\n",
    "print(f'Probability predctions: \\n {clf.predict_proba(X_train)} \\n')\n",
    "print(f'Train score: \\n {clf.score(X_train, y_train)} \\n')\n",
    "print(f'Test score: \\n {clf.score(X_test, y_test)}')"
   ]
  },
  {
   "cell_type": "markdown",
   "metadata": {},
   "source": [
    "## Decision Trees"
   ]
  },
  {
   "cell_type": "markdown",
   "metadata": {},
   "source": [
    "##### Random Forest"
   ]
  },
  {
   "cell_type": "code",
   "execution_count": null,
   "metadata": {},
   "outputs": [],
   "source": [
    "## random forest without word vectors\n"
   ]
  },
  {
   "cell_type": "code",
   "execution_count": 32,
   "metadata": {
    "scrolled": true
   },
   "outputs": [
    {
     "name": "stdout",
     "output_type": "stream",
     "text": [
      "Predicted values: \n",
      " [1 1 0 1 1 0 0 0 0 1 1 0 0 1 1 0 1 1 1 1 0 1 1 1 0 1 1 1 1 0 0 1 0 1 0 0 1\n",
      " 1 1 1 1 1 1 0 1 0 0 0 1 0 0 0 0 0 1 0 0 1 0 0 1 0 0 0 0 0 0 0 0 0 0 0 0 0\n",
      " 0 0 0 0 0 1 0 0 0 0 1 0 0 0 0 0 0 1 1 0 0 0 0 0 0 0 0 0 0 0 1 0 0 0 0 0 0\n",
      " 0 0 0 0 0 1 0 0 1 1 1 0 0 0 0 0 1 0 1 1 0 0 1 0 1 1 0 1 1 1 1 1 1 1 0 1 1\n",
      " 0 1 0 0 0 1 1 0 0 0 0 0 0 1 0 0 0 1 1 1 1 0 1 1 0 0 0 0 1 1 1 1 0 1 0 0 1\n",
      " 1 0 0 0 1 1 0 0 1 1 1 1 1 1 0 1 0 1 1 0 0 1 1 0 0 1 1 1 1 1 0 1 1 1 1 0 1\n",
      " 0 1 1 0 1 0 0 1 1 1 1 1 0 1 1 1 0 1 0 0 0 1 0 0 0 1 0 1 1 0 0 1 1 1 1 1 1\n",
      " 0 0 1 0 1 1 0 0 1 0 0 0 0 1 1 0 1 0 1 1 0 1 1 1 0 1 0 1 1 1 0 0 0 1 1 0 0\n",
      " 1 1 0 1 0 1 1 0 1 1 0 1 0 0 1 1 1 0 1 1 1 0 1 1 1 0 0 1 1 0 0 1 1 1 1 1 0\n",
      " 1 1 1 0 1 1 0 1 0 0 0 0 0 0 0 0 1 0 1 1 1 1 1 0 0 1 1 0 1 0 0 1 0 1 1 1 1\n",
      " 1 0 0 0 1 0 0 0 1 0 1 1 1 0 1 1 1 1 0 1 0 1 1 1 1 1 0 0 0 1 1 1 1 1 1 1 1\n",
      " 0 0 1 1 0 1 0 1 1 1 0 1 1 1 0 0 1 1 0 1 1 1 0 0 1 1 0 0 1 1 0 1 0 1 0 1 0\n",
      " 0 1 1 0 0 0 1 1 0 0 0 1 0 0 0 0 0 0 1 1 1 0 1 0 1 0 0 1 1 0 0 0 1 1 1 1 1\n",
      " 1 1 0 0 0 1 0 1 1 1 0 1 0 0 1 1 0 1 1 1 1 0 1 1 1 1 1 1 0 0 0 1 0 1 1 1 0\n",
      " 0 0 0 1 0 0 1 1 0 0 1 1 0 0 0 0 1 1 1 0 0 0 0 1 1 1 0 1 1 1 0 0 1 1 1 1 1\n",
      " 0 0 1 0 0 0 0 1 1 1 0 0 0 0 0 0 1 0 1 1 0 0 1 1 1 1 0 1 0 0 1 0 1 1 1 0 1\n",
      " 1 0 1 1 0 1 1 0 0 0 1 0 1 0 1 1 0 0 0 1 1 1 0 1 0 0 1 0 1 0 1 1 1 1 0 0 1\n",
      " 0 0 0 0 0 0 0 0 1 1 1 0 1 0 0 1 0 1 0 1 1 1 0 1 1 0 1 1 0 1 0 1 0 1 1 0 0\n",
      " 0 0 0 0 0 1 0 0 1 0 0 1 0 0 1 1 1 0 0 0 0 0 0 0 1 0 0 1 0 1 0 1 1 1 0 0 1\n",
      " 0 0 1 0 0 1 0 0 1 0 0 0 1 0 0 0 0 1 0 0 0 0 1 0 0 1 0 0 0 1 0 1 0 1 0 0 1\n",
      " 0 1 1 1 0 1 1 0 0 1 1 1 1 1 1 1 1 1 0 1 0 0 1 0 0 1 1 1 0 0 0 0 0 0 1 1 1\n",
      " 0 1 1 1 0 1 0 1 0 1 1 0 1 1 0 1 1 1 1 0 0 1 1 1 1 1 1 1 0 1 0 1 1 0 1 1 1\n",
      " 0 0 1 1 0 0 1 0 1 1 0 0 1 0 1 1 1 1 1 0 0 0 0 1 0 1 0 1 1 0 0 0 0 0 1 0 1\n",
      " 1 0 1 1 0 0 1 1 0 1 1 0 0 1 0] \n",
      "\n",
      "Probability pridctions: \n",
      " [[0.  1. ]\n",
      " [0.2 0.8]\n",
      " [0.9 0.1]\n",
      " ...\n",
      " [0.8 0.2]\n",
      " [0.3 0.7]\n",
      " [0.9 0.1]] \n",
      "\n",
      "Train score: \n",
      " 0.9965357967667436 \n",
      "\n",
      "Test score: \n",
      " 0.9175257731958762\n"
     ]
    }
   ],
   "source": [
    "## random forest with word vectors\n",
    "\n",
    "clf = RandomForestClassifier()\n",
    "clf.fit(X_train, y_train)\n",
    "\n",
    "print(f'Predicted values: \\n {clf.predict(X_train)} \\n')\n",
    "print(f'Probability pridctions: \\n {clf.predict_proba(X_train)} \\n')\n",
    "print(f'Train score: \\n {clf.score(X_train, y_train)} \\n')\n",
    "print(f'Test score: \\n {clf.score(X_test, y_test)}')\n",
    "\n",
    "# print(f'Parameters: \\n {grid_random_forest.best_params_} \\n')\n",
    "# print(f'Train score: \\n {grid_random_forest.best_score_} \\n')\n",
    "# print(f'Test score: \\n {grid_random_forest.score(X_test, y_test)}')"
   ]
  },
  {
   "cell_type": "code",
   "execution_count": 34,
   "metadata": {},
   "outputs": [
    {
     "name": "stdout",
     "output_type": "stream",
     "text": [
      "Parameters: \n",
      " {'criterion': 'gini', 'max_depth': 15, 'min_samples_split': 2} \n",
      "\n",
      "Train score: \n",
      " 0.7863741339491916 \n",
      "\n",
      "Test score: \n",
      " 0.9106529209621993\n"
     ]
    }
   ],
   "source": [
    "## with grid search\n",
    "\n",
    "param_grid = {\n",
    "    'criterion': ['gini', 'entropy'],\n",
    "    'max_depth': [1, 2, 5, 10, 15, 20],\n",
    "    'min_samples_split': [2, 5, 10, 15, 20]\n",
    "}\n",
    "\n",
    "grid_random_forest = GridSearchCV(RandomForestClassifier(), param_grid, cv=3)\n",
    "grid_random_forest.fit(X_train, y_train)\n",
    "\n",
    "print(f'Parameters: \\n {grid_random_forest.best_params_} \\n')\n",
    "print(f'Train score: \\n {grid_random_forest.best_score_} \\n')\n",
    "print(f'Test score: \\n {grid_random_forest.score(X_test, y_test)}')"
   ]
  },
  {
   "cell_type": "markdown",
   "metadata": {},
   "source": [
    "##### AdaBoost"
   ]
  },
  {
   "cell_type": "code",
   "execution_count": 35,
   "metadata": {},
   "outputs": [
    {
     "name": "stdout",
     "output_type": "stream",
     "text": [
      "Train score: \n",
      " 0.8394919168591224 \n",
      "\n",
      "Test score: \n",
      " 0.7628865979381443\n"
     ]
    }
   ],
   "source": [
    "## AdaBoost without word vectors\n",
    "clf = AdaBoostClassifier(n_estimators=100, random_state=0)\n",
    "clf.fit(X_train, y_train)\n",
    "\n",
    "print(f'Train score: \\n {clf.score(X_train, y_train)} \\n')\n",
    "print(f'Test score: \\n {clf.score(X_test, y_test)}')"
   ]
  },
  {
   "cell_type": "markdown",
   "metadata": {},
   "source": [
    "##### Gradient Boost"
   ]
  },
  {
   "cell_type": "code",
   "execution_count": 53,
   "metadata": {},
   "outputs": [
    {
     "name": "stdout",
     "output_type": "stream",
     "text": [
      "Train scores:\n",
      "Accuracy: 0.8879907621247113\n",
      "F1-Score: 0.8928176795580111\n",
      "\n",
      "Test scores:\n",
      "Accuracy: 0.8109965635738832\n",
      "F1-Score: 0.8318042813455658\n"
     ]
    }
   ],
   "source": [
    "gbt_clf = GradientBoostingClassifier()\n",
    "gbt_clf.fit(X_train, y_train)\n",
    "\n",
    "gbt_clf_train_preds = gbt_clf.predict(X_train)\n",
    "gbt_clf_test_preds = gbt_clf.predict(X_test)\n",
    "\n",
    "def display_acc_and_f1_score(true, preds):\n",
    "    acc = accuracy_score(true, preds)\n",
    "    f1 = f1_score(true, preds)\n",
    "    print(\"Accuracy: {}\".format(acc))\n",
    "    print(\"F1-Score: {}\".format(f1))\n",
    "    \n",
    "print(\"Train scores:\")\n",
    "display_acc_and_f1_score(y_train, gbt_clf_train_preds)\n",
    "print(\"\\nTest scores:\")\n",
    "display_acc_and_f1_score(y_test, gbt_clf_test_preds)\n"
   ]
  },
  {
   "cell_type": "markdown",
   "metadata": {},
   "source": [
    "##### XGBoost"
   ]
  },
  {
   "cell_type": "code",
   "execution_count": 47,
   "metadata": {},
   "outputs": [
    {
     "name": "stdout",
     "output_type": "stream",
     "text": [
      "Train Score: \n",
      " 0.874133949191686 \n",
      "\n",
      "Test score: \n",
      " 0.8384879725085911\n"
     ]
    }
   ],
   "source": [
    "clf = XGBClassifier()\n",
    "\n",
    "## solving errors indicating some values were being passed as strings\n",
    "X_train = X_train.astype(int)\n",
    "X_test = X_test.astype(int)\n",
    "\n",
    "clf.fit(X_train, y_train)\n",
    "\n",
    "training_preds = clf.predict(X_train)\n",
    "test_preds = clf.predict(X_test)\n",
    "\n",
    "training_accuracy = accuracy_score(y_train, training_preds)\n",
    "test_accuracy = accuracy_score(y_test, test_preds)\n",
    "\n",
    "print(f'Train Score: \\n {training_accuracy} \\n')\n",
    "print(f'Test score: \\n {test_accuracy}')"
   ]
  },
  {
   "cell_type": "markdown",
   "metadata": {},
   "source": [
    "## Support Vector Machine"
   ]
  },
  {
   "cell_type": "code",
   "execution_count": 48,
   "metadata": {},
   "outputs": [
    {
     "name": "stdout",
     "output_type": "stream",
     "text": [
      "[[120  14]\n",
      " [ 17 140]]\n",
      "              precision    recall  f1-score   support\n",
      "\n",
      "           0       0.88      0.90      0.89       134\n",
      "           1       0.91      0.89      0.90       157\n",
      "\n",
      "    accuracy                           0.89       291\n",
      "   macro avg       0.89      0.89      0.89       291\n",
      "weighted avg       0.89      0.89      0.89       291\n",
      "\n",
      "The accuracy score is 0.8934707903780069\n"
     ]
    }
   ],
   "source": [
    "svclassifier = SVC(kernel='rbf', C=1000)  \n",
    "svclassifier.fit(X_train, y_train) \n",
    "\n",
    "y_pred = svclassifier.predict(X_test)\n",
    "\n",
    "print(confusion_matrix(y_test,y_pred))  \n",
    "print(classification_report(y_test,y_pred)) \n",
    "print(\"The accuracy score is\" + \" \" + str(accuracy_score(y_test, y_pred)))"
   ]
  },
  {
   "cell_type": "markdown",
   "metadata": {},
   "source": [
    "## Naive Bayes"
   ]
  },
  {
   "cell_type": "code",
   "execution_count": 49,
   "metadata": {},
   "outputs": [
    {
     "name": "stdout",
     "output_type": "stream",
     "text": [
      "Train score: \n",
      " 0.7390300230946882 \n",
      "\n",
      "Test score: \n",
      " 0.6838487972508591\n"
     ]
    }
   ],
   "source": [
    "## NB wasn't good for the task, it had the lowest score of all the models\n",
    "\n",
    "clf = BernoulliNB()\n",
    "clf.fit(X_train, y_train)\n",
    "\n",
    "print(f'Train score: \\n {clf.score(X_train, y_train)} \\n')\n",
    "print(f'Test score: \\n {clf.score(X_test, y_test)}')"
   ]
  },
  {
   "cell_type": "markdown",
   "metadata": {},
   "source": [
    "## Best Model Evaluation"
   ]
  },
  {
   "cell_type": "code",
   "execution_count": null,
   "metadata": {},
   "outputs": [],
   "source": [
    "## Evaluate the random forest, print the diagram and shit "
   ]
  },
  {
   "cell_type": "code",
   "execution_count": 54,
   "metadata": {},
   "outputs": [
    {
     "ename": "AttributeError",
     "evalue": "'BernoulliNB' object has no attribute 'feature_importances_'",
     "output_type": "error",
     "traceback": [
      "\u001b[0;31m---------------------------------------------------------------------------\u001b[0m",
      "\u001b[0;31mAttributeError\u001b[0m                            Traceback (most recent call last)",
      "\u001b[0;32m<ipython-input-54-26f6cd4155ec>\u001b[0m in \u001b[0;36m<module>\u001b[0;34m\u001b[0m\n\u001b[0;32m----> 1\u001b[0;31m feature_importances = pd.DataFrame(clf.feature_importances_,\n\u001b[0m\u001b[1;32m      2\u001b[0m                                    \u001b[0mindex\u001b[0m \u001b[0;34m=\u001b[0m \u001b[0mX_train\u001b[0m\u001b[0;34m.\u001b[0m\u001b[0mcolumns\u001b[0m\u001b[0;34m,\u001b[0m\u001b[0;34m\u001b[0m\u001b[0;34m\u001b[0m\u001b[0m\n\u001b[1;32m      3\u001b[0m                                    columns=['importance']).sort_values('importance', ascending=False)\n\u001b[1;32m      4\u001b[0m \u001b[0mfeature_importances\u001b[0m\u001b[0;34m.\u001b[0m\u001b[0mhead\u001b[0m\u001b[0;34m(\u001b[0m\u001b[0;36m20\u001b[0m\u001b[0;34m)\u001b[0m\u001b[0;34m\u001b[0m\u001b[0;34m\u001b[0m\u001b[0m\n",
      "\u001b[0;31mAttributeError\u001b[0m: 'BernoulliNB' object has no attribute 'feature_importances_'"
     ]
    }
   ],
   "source": [
    "feature_importances = pd.DataFrame(clf.feature_importances_,\n",
    "                                   index = X_train.columns,\n",
    "                                   columns=['importance']).sort_values('importance', ascending=False)\n",
    "feature_importances.head(20)"
   ]
  },
  {
   "cell_type": "code",
   "execution_count": null,
   "metadata": {},
   "outputs": [],
   "source": []
  }
 ],
 "metadata": {
  "kernelspec": {
   "display_name": "Python 3",
   "language": "python",
   "name": "python3"
  },
  "language_info": {
   "codemirror_mode": {
    "name": "ipython",
    "version": 3
   },
   "file_extension": ".py",
   "mimetype": "text/x-python",
   "name": "python",
   "nbconvert_exporter": "python",
   "pygments_lexer": "ipython3",
   "version": "3.7.4"
  }
 },
 "nbformat": 4,
 "nbformat_minor": 2
}
